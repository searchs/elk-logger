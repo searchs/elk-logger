{
 "cells": [
  {
   "cell_type": "code",
   "execution_count": 1,
   "id": "4b3fff2b-fe6c-4291-91bd-29a040c10fa5",
   "metadata": {},
   "outputs": [],
   "source": [
    "import logging\n",
    "from logstash_async.handler import AsynchronousLogstashHandler"
   ]
  },
  {
   "cell_type": "code",
   "execution_count": 2,
   "id": "0379de00-fd4b-4048-97e5-7487ed409b92",
   "metadata": {},
   "outputs": [],
   "source": [
    "host = 'localhost'\n",
    "port = 5001"
   ]
  },
  {
   "cell_type": "code",
   "execution_count": 3,
   "id": "9067a1ee-97eb-4a16-b71a-a389137de617",
   "metadata": {},
   "outputs": [],
   "source": [
    "test_logger = logging.getLogger('python-logstash-logger')\n",
    "test_logger.setLevel(logging.INFO)\n",
    "async_handler = AsynchronousLogstashHandler(host, port, database_path=None)\n",
    "test_logger.addHandler(async_handler)"
   ]
  },
  {
   "cell_type": "code",
   "execution_count": null,
   "id": "2c25acd6-2a15-4538-87fc-bbc7dab78e80",
   "metadata": {},
   "outputs": [],
   "source": [
    "import time\n",
    "while True:\n",
    "    test_logger.info(f\"Message from the past going into the future {time.time()}\")\n",
    "    time.sleep(1)"
   ]
  },
  {
   "cell_type": "code",
   "execution_count": null,
   "id": "68efc495-e009-410d-9649-c9a11c4d7355",
   "metadata": {},
   "outputs": [],
   "source": []
  }
 ],
 "metadata": {
  "kernelspec": {
   "display_name": "Python 3 (ipykernel)",
   "language": "python",
   "name": "python3"
  },
  "language_info": {
   "codemirror_mode": {
    "name": "ipython",
    "version": 3
   },
   "file_extension": ".py",
   "mimetype": "text/x-python",
   "name": "python",
   "nbconvert_exporter": "python",
   "pygments_lexer": "ipython3",
   "version": "3.8.12"
  }
 },
 "nbformat": 4,
 "nbformat_minor": 5
}
